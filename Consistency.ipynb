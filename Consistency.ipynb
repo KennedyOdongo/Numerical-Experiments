{
 "cells": [
  {
   "cell_type": "markdown",
   "metadata": {},
   "source": [
    "# Does the training score approach the OLS equivalent when we increase the training sample. Let's try."
   ]
  },
  {
   "cell_type": "code",
   "execution_count": 1,
   "metadata": {},
   "outputs": [],
   "source": [
    "# Importing modules\n",
    "import pandas as pd\n",
    "import numpy as np\n",
    "import matplotlib.pyplot as plt\n",
    "%matplotlib inline\n",
    "import statsmodels.api as sm\n",
    "from statsmodels.iolib.summary2 import summary_col\n",
    "from sklearn.linear_model import LinearRegression\n",
    "from sklearn.model_selection import train_test_split"
   ]
  },
  {
   "cell_type": "code",
   "execution_count": 2,
   "metadata": {},
   "outputs": [
    {
     "name": "stdout",
     "output_type": "stream",
     "text": [
      "      rooms  bedrooms  bathrooms  surface_total  surface_covered  \\\n",
      "0  2.869849  2.094004   1.672343     486.714457       446.706868   \n",
      "1  2.869849  2.094004   1.000000      55.000000        41.000000   \n",
      "2  2.000000  2.094004   1.000000      45.000000        45.000000   \n",
      "3  2.000000  2.094004   1.000000      48.000000        48.000000   \n",
      "4  2.000000  2.094004   1.000000      45.000000        45.000000   \n",
      "\n",
      "           price  \n",
      "0  173846.011032  \n",
      "1  173846.011032  \n",
      "2  173846.011032  \n",
      "3  173846.011032  \n",
      "4  173846.011032  \n",
      "<class 'pandas.core.frame.DataFrame'>\n",
      "RangeIndex: 976083 entries, 0 to 976082\n",
      "Data columns (total 6 columns):\n",
      "rooms              976083 non-null float64\n",
      "bedrooms           976083 non-null float64\n",
      "bathrooms          976083 non-null float64\n",
      "surface_total      976083 non-null float64\n",
      "surface_covered    976083 non-null float64\n",
      "price              976083 non-null float64\n",
      "dtypes: float64(6)\n",
      "memory usage: 44.7 MB\n",
      "None\n"
     ]
    }
   ],
   "source": [
    "#For this project we are going to use data on housing prices in Argentina.\n",
    "#importing the data.\n",
    "df=pd.read_csv(r'C:\\Users\\Rodgers\\Desktop\\Machine learning\\Argentina1.csv')\n",
    "print(df.head())\n",
    "print(df.info())"
   ]
  },
  {
   "cell_type": "code",
   "execution_count": 4,
   "metadata": {},
   "outputs": [
    {
     "name": "stderr",
     "output_type": "stream",
     "text": [
      "C:\\Users\\Rodgers\\Anaconda3\\lib\\site-packages\\numpy\\core\\fromnumeric.py:2389: FutureWarning: Method .ptp is deprecated and will be removed in a future version. Use numpy.ptp instead.\n",
      "  return ptp(axis=axis, out=out, **kwargs)\n"
     ]
    },
    {
     "name": "stdout",
     "output_type": "stream",
     "text": [
      "                            OLS Regression Results                            \n",
      "==============================================================================\n",
      "Dep. Variable:                  price   R-squared:                       0.000\n",
      "Model:                            OLS   Adj. R-squared:                  0.000\n",
      "Method:                 Least Squares   F-statistic:                     21.39\n",
      "Date:                Sun, 05 Jul 2020   Prob (F-statistic):           1.79e-21\n",
      "Time:                        08:57:43   Log-Likelihood:            -1.7130e+07\n",
      "No. Observations:              976083   AIC:                         3.426e+07\n",
      "Df Residuals:                  976077   BIC:                         3.426e+07\n",
      "Df Model:                           5                                         \n",
      "Covariance Type:            nonrobust                                         \n",
      "===================================================================================\n",
      "                      coef    std err          t      P>|t|      [0.025      0.975]\n",
      "-----------------------------------------------------------------------------------\n",
      "const           -6.671e+04   2.87e+04     -2.326      0.020   -1.23e+05   -1.05e+04\n",
      "rooms            2.717e+04   9188.985      2.956      0.003    9156.942    4.52e+04\n",
      "bathrooms        8.947e+04   1.21e+04      7.369      0.000    6.57e+04    1.13e+05\n",
      "surface_total       6.6303      3.323      1.995      0.046       0.117      13.144\n",
      "surface_covered     0.1755      0.270      0.650      0.516      -0.354       0.705\n",
      "bedrooms         4614.8888   6987.383      0.660      0.509   -9080.148    1.83e+04\n",
      "=================================================================================\n",
      "Omnibus:                  7216764.725   Durbin-Watson:                      2.000\n",
      "Prob(Omnibus):                  0.000   Jarque-Bera (JB):   38511869313980440.000\n",
      "Skew:                         985.710   Prob(JB):                            0.00\n",
      "Kurtosis:                  973105.649   Cond. No.                        1.09e+05\n",
      "=================================================================================\n",
      "\n",
      "Warnings:\n",
      "[1] Standard Errors assume that the covariance matrix of the errors is correctly specified.\n",
      "[2] The condition number is large, 1.09e+05. This might indicate that there are\n",
      "strong multicollinearity or other numerical problems.\n"
     ]
    }
   ],
   "source": [
    "#Simple OLS model.\n",
    "y=df['price']\n",
    "x=df[['rooms', 'bathrooms','surface_total','surface_covered','bedrooms']]\n",
    "x = sm.add_constant(x)\n",
    "model=sm.OLS(y,x).fit()\n",
    "model_prediction=model.predict(x)\n",
    "model_details=model.summary()\n",
    "print(model_details)"
   ]
  },
  {
   "cell_type": "code",
   "execution_count": 20,
   "metadata": {},
   "outputs": [],
   "source": [
    "#train test split sklearn, starting with a training size of 0.9\n",
    "X_train,X_test,y_train,y_test=train_test_split(x,y, test_size=0.1, random_state=25)"
   ]
  },
  {
   "cell_type": "code",
   "execution_count": 22,
   "metadata": {},
   "outputs": [
    {
     "name": "stdout",
     "output_type": "stream",
     "text": [
      "[0.00000000e+00 2.90226181e+04 8.87868477e+04 6.94540392e+00\n",
      " 1.79875234e-01 4.80612972e+03]\n"
     ]
    }
   ],
   "source": [
    "lr = LinearRegression()\n",
    "lr.fit(X_train,y_train)\n",
    "y_predict=lr.predict(X_test)\n",
    "print(lr.coef_)"
   ]
  },
  {
   "cell_type": "code",
   "execution_count": 46,
   "metadata": {},
   "outputs": [],
   "source": [
    "test_size_=[0.1,0.2,0.3,0.4,0.5]"
   ]
  },
  {
   "cell_type": "code",
   "execution_count": 50,
   "metadata": {},
   "outputs": [],
   "source": [
    "def Learn(x,y,list_):\n",
    "    #for each test_size, train a model and return the coefficients\n",
    "    for i in list_:\n",
    "        X_train,X_test,y_train,y_test=train_test_split(x,y, test_size=i, random_state=25)\n",
    "        lr = LinearRegression()\n",
    "        lr.fit(X_train,y_train)\n",
    "        return Learn (x,y,list_)"
   ]
  },
  {
   "cell_type": "code",
   "execution_count": null,
   "metadata": {},
   "outputs": [],
   "source": [
    "Learn(x,y,test_size_)"
   ]
  },
  {
   "cell_type": "code",
   "execution_count": 26,
   "metadata": {},
   "outputs": [
    {
     "name": "stdout",
     "output_type": "stream",
     "text": [
      "[0.00000000e+00 3.13889517e+04 8.78182821e+04 6.52855753e+00\n",
      " 1.40296375e-01 4.83462095e+03]\n"
     ]
    }
   ],
   "source": [
    "#train test split sklearn, starting with a training size of 0.8\n",
    "X_train,X_test,y_train,y_test=train_test_split(x,y, test_size=0.2, random_state=25)\n",
    "lr = LinearRegression()\n",
    "lr.fit(X_train,y_train)\n",
    "y_predict=lr.predict(X_test)\n",
    "print(lr.coef_)"
   ]
  },
  {
   "cell_type": "code",
   "execution_count": 27,
   "metadata": {},
   "outputs": [
    {
     "name": "stdout",
     "output_type": "stream",
     "text": [
      "[0.00000000e+00 3.41973461e+04 8.72246579e+04 6.55875921e+00\n",
      " 1.40228844e-01 5.44514964e+03]\n"
     ]
    }
   ],
   "source": [
    "#train test split sklearn, starting with a training size of 0.7\n",
    "X_train,X_test,y_train,y_test=train_test_split(x,y, test_size=0.3, random_state=25)\n",
    "lr = LinearRegression()\n",
    "lr.fit(X_train,y_train)\n",
    "y_predict=lr.predict(X_test)\n",
    "print(lr.coef_)"
   ]
  },
  {
   "cell_type": "code",
   "execution_count": 28,
   "metadata": {},
   "outputs": [
    {
     "name": "stdout",
     "output_type": "stream",
     "text": [
      "[0.00000000e+00 3.81471102e+04 8.55676972e+04 6.31438242e+00\n",
      " 2.44550220e-01 6.12576321e+03]\n"
     ]
    }
   ],
   "source": [
    "#train test split sklearn, starting with a training size of 0.6\n",
    "X_train,X_test,y_train,y_test=train_test_split(x,y, test_size=0.4, random_state=25)\n",
    "lr = LinearRegression()\n",
    "lr.fit(X_train,y_train)\n",
    "y_predict=lr.predict(X_test)\n",
    "print(lr.coef_)"
   ]
  },
  {
   "cell_type": "code",
   "execution_count": 29,
   "metadata": {},
   "outputs": [
    {
     "name": "stdout",
     "output_type": "stream",
     "text": [
      "[0.00000000e+00 1.29115455e+04 9.34566168e+04 7.06175578e+00\n",
      " 2.27690348e-01 3.22703332e+03]\n"
     ]
    }
   ],
   "source": [
    "#train test split sklearn, starting with a training size of 0.5\n",
    "X_train,X_test,y_train,y_test=train_test_split(x,y, test_size=0.5, random_state=25)\n",
    "lr = LinearRegression()\n",
    "lr.fit(X_train,y_train)\n",
    "y_predict=lr.predict(X_test)\n",
    "print(lr.coef_)"
   ]
  },
  {
   "cell_type": "code",
   "execution_count": 30,
   "metadata": {},
   "outputs": [
    {
     "name": "stdout",
     "output_type": "stream",
     "text": [
      "[0.00000000e+00 2.80714617e+04 8.91904378e+04 6.75439841e+00\n",
      " 1.80401495e-01 4.60837549e+03]\n"
     ]
    }
   ],
   "source": [
    "#train test split sklearn, starting with a training size of 0.95\n",
    "X_train,X_test,y_train,y_test=train_test_split(x,y, test_size=0.05, random_state=25)\n",
    "lr = LinearRegression()\n",
    "lr.fit(X_train,y_train)\n",
    "y_predict=lr.predict(X_test)\n",
    "print(lr.coef_)"
   ]
  },
  {
   "cell_type": "markdown",
   "metadata": {},
   "source": [
    "#### As the sample size that we use to train our ML models grows the coeffcients converge to their true values. If the sample is big enough, then we need not worry if the model is learning the correct coefficients. However if the sample is small, most Ml methods typically do not learn the correct coefficients."
   ]
  },
  {
   "cell_type": "markdown",
   "metadata": {},
   "source": [
    "#### As the sample size goes to the true size of the data set, the ML model fits converge to the model estimates that we get with simple OLS."
   ]
  },
  {
   "cell_type": "code",
   "execution_count": null,
   "metadata": {},
   "outputs": [],
   "source": []
  }
 ],
 "metadata": {
  "kernelspec": {
   "display_name": "Python 3",
   "language": "python",
   "name": "python3"
  },
  "language_info": {
   "codemirror_mode": {
    "name": "ipython",
    "version": 3
   },
   "file_extension": ".py",
   "mimetype": "text/x-python",
   "name": "python",
   "nbconvert_exporter": "python",
   "pygments_lexer": "ipython3",
   "version": "3.7.4"
  }
 },
 "nbformat": 4,
 "nbformat_minor": 2
}
