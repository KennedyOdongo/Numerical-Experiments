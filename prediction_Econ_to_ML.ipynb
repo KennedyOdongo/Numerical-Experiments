{
 "cells": [
  {
   "cell_type": "markdown",
   "metadata": {},
   "source": [
    "# Predicting House Prices, Econometrics(OLS) & ML"
   ]
  },
  {
   "cell_type": "markdown",
   "metadata": {},
   "source": [
    "The data is from https://www.properati.com.ar/publish and is used only for puposes of demonstrating model fitting as in machine learning and Model estimation in Econometrics. The datasets contain real estate listings in Argentina, Colombia, Ecuador, Perú, and Uruguay. With information on number of rooms, districts, prices, etc.They include houses, apartments, commercial lots, and more.We want to model the price of the house ('the label' in ML, the dependent variable in Economics) as a \n",
    "function of all the relevant attributes(features as in ML and Variables in Econ). We will fit the model( as in ML) and Estimate the model(As in Econ)"
   ]
  },
  {
   "cell_type": "code",
   "execution_count": 1,
   "metadata": {},
   "outputs": [],
   "source": [
    "#import modules:\n",
    "import pandas as pd\n",
    "import numpy as np\n",
    "import matplotlib.pyplot as plt\n",
    "%matplotlib inline\n",
    "import statsmodels.api as sm\n",
    "from statsmodels.iolib.summary2 import summary_col\n",
    "from sklearn.linear_model import LinearRegression\n",
    "from sklearn.model_selection import train_test_split"
   ]
  },
  {
   "cell_type": "code",
   "execution_count": 28,
   "metadata": {},
   "outputs": [
    {
     "name": "stdout",
     "output_type": "stream",
     "text": [
      "                         id    ad_type  start_date    end_date  created_on  \\\n",
      "0  7LoZFkSIPOTox0r32ck42Q==  Propiedad  2019-09-15  2019-10-26  2019-09-15   \n",
      "1  QsZD4OxZInNd5po5LQDRmg==  Propiedad  2019-09-15  9999-12-31  2019-09-15   \n",
      "2  qDtysoUgbnHLp0W9We+8fg==  Propiedad  2019-09-15  2019-09-25  2019-09-15   \n",
      "3  olj51zV0HFurmaZ78U0ssg==  Propiedad  2019-09-15  2019-09-25  2019-09-15   \n",
      "4  OcS1SAA5oAzjZ3Mzg3XHyg==  Propiedad  2019-09-15  2019-09-25  2019-09-15   \n",
      "\n",
      "         lat        lon         l1       l2           l3  ... bathrooms  \\\n",
      "0 -26.815439 -65.312393  Argentina  Tucumán  Yerba Buena  ...       NaN   \n",
      "1 -26.839469 -65.212790  Argentina  Tucumán          NaN  ...       1.0   \n",
      "2 -31.424820 -64.181225  Argentina  Córdoba      Córdoba  ...       1.0   \n",
      "3 -31.421242 -64.190798  Argentina  Córdoba      Córdoba  ...       1.0   \n",
      "4 -31.426064 -64.180042  Argentina  Córdoba      Córdoba  ...       1.0   \n",
      "\n",
      "  surface_total  surface_covered  price  currency  price_period  \\\n",
      "0           NaN              NaN    NaN       NaN       Mensual   \n",
      "1          55.0             41.0    NaN       NaN       Mensual   \n",
      "2          45.0             45.0    NaN       NaN       Mensual   \n",
      "3          48.0             48.0    NaN       NaN       Mensual   \n",
      "4          45.0             45.0    NaN       NaN       Mensual   \n",
      "\n",
      "                                      title  \\\n",
      "0                     Terreno - Yerba Buena   \n",
      "1                    Departamento - Capital   \n",
      "2         1 DORMITORIO | San Lorenzo al 400   \n",
      "3     1 DORMITORIO | M. T. de Alvear al 500   \n",
      "4  1 DORMITORIO | Av. Poeta Lugones  al 200   \n",
      "\n",
      "                                         description  property_type  \\\n",
      "0  Accesos pavimentados.<br>Red subterránea de ag...           Lote   \n",
      "1  Detalles constructivos:<br><br>Pisos de porcel...   Departamento   \n",
      "2  Alquiler temporario de Departamento 1 DORMITOR...   Departamento   \n",
      "3  Alquiler temporario de Departamento 1 DORMITOR...   Departamento   \n",
      "4  Alquiler temporario de Departamento 1 DORMITOR...   Departamento   \n",
      "\n",
      "      operation_type  \n",
      "0              Venta  \n",
      "1              Venta  \n",
      "2  Alquiler temporal  \n",
      "3  Alquiler temporal  \n",
      "4  Alquiler temporal  \n",
      "\n",
      "[5 rows x 25 columns]\n",
      "<class 'pandas.core.frame.DataFrame'>\n",
      "RangeIndex: 1000000 entries, 0 to 999999\n",
      "Data columns (total 25 columns):\n",
      "id                 1000000 non-null object\n",
      "ad_type            1000000 non-null object\n",
      "start_date         1000000 non-null object\n",
      "end_date           1000000 non-null object\n",
      "created_on         1000000 non-null object\n",
      "lat                850472 non-null float64\n",
      "lon                849456 non-null float64\n",
      "l1                 1000000 non-null object\n",
      "l2                 1000000 non-null object\n",
      "l3                 944673 non-null object\n",
      "l4                 249223 non-null object\n",
      "l5                 4616 non-null object\n",
      "l6                 0 non-null float64\n",
      "rooms              531101 non-null float64\n",
      "bedrooms           368640 non-null float64\n",
      "bathrooms          770378 non-null float64\n",
      "surface_total      578777 non-null float64\n",
      "surface_covered    549945 non-null float64\n",
      "price              951327 non-null float64\n",
      "currency           945495 non-null object\n",
      "price_period       418899 non-null object\n",
      "title              999972 non-null object\n",
      "description        999975 non-null object\n",
      "property_type      1000000 non-null object\n",
      "operation_type     1000000 non-null object\n",
      "dtypes: float64(9), object(16)\n",
      "memory usage: 190.7+ MB\n",
      "None\n"
     ]
    }
   ],
   "source": [
    "#read in the raw data set.\n",
    "df=pd.read_csv(r'C:\\Users\\Rodgers\\Desktop\\Machine learning\\Kaggle Datasets\\ar_properties.csv')\n",
    "print(df.head())\n",
    "print(df.info())"
   ]
  },
  {
   "cell_type": "code",
   "execution_count": 3,
   "metadata": {},
   "outputs": [],
   "source": [
    "# in this cell we drop the columns that we will not be using.Most of them do not bias in any way the estimation we are trying\n",
    "#achieve e.g. for the decsription, all examples(observations) are properties. So we don't need that column.\n",
    "df=data.drop(['id','title','description','ad_type','created_on','l5','l6','start_date','end_date','lat','lon','l2','l4'], axis=1)"
   ]
  },
  {
   "cell_type": "code",
   "execution_count": 4,
   "metadata": {},
   "outputs": [
    {
     "name": "stdout",
     "output_type": "stream",
     "text": [
      "(1000000, 12)\n"
     ]
    }
   ],
   "source": [
    "#print(df.head())\n",
    "print(df.shape) #after dropping unneccesary columns, we are left with 12, down from 25"
   ]
  },
  {
   "cell_type": "code",
   "execution_count": 4,
   "metadata": {},
   "outputs": [],
   "source": [
    "#Here, we just play with the code. This function takes in a data frame and tells us how many unique values, there are\n",
    "#per feature\n",
    "def unique_values(dataframe):\n",
    "    list_=[]\n",
    "    for i in dataframe.columns:\n",
    "        list_.append(dataframe[i].nunique())\n",
    "    return list_"
   ]
  },
  {
   "cell_type": "code",
   "execution_count": 5,
   "metadata": {},
   "outputs": [],
   "source": [
    "#This one tells us what are the categories per variable:\n",
    "def unique_types(dataframe):\n",
    "    for i in dataframe.columns:\n",
    "        print(dataframe[i].unique())\n"
   ]
  },
  {
   "cell_type": "code",
   "execution_count": 6,
   "metadata": {},
   "outputs": [
    {
     "name": "stdout",
     "output_type": "stream",
     "text": [
      "[4, 1267, 35, 78, 20, 5447, 2800, 20032, 4, 3, 10, 3]\n"
     ]
    }
   ],
   "source": [
    "#Testing our functions...\n",
    "print(unique_values(df))\n",
    "#print(unique_types(df)) #not quite useful when the data is not categorical"
   ]
  },
  {
   "cell_type": "code",
   "execution_count": 7,
   "metadata": {},
   "outputs": [
    {
     "name": "stdout",
     "output_type": "stream",
     "text": [
      "          l1           l3  rooms  bedrooms  bathrooms  surface_total  \\\n",
      "0  Argentina  Yerba Buena    NaN       NaN        NaN            NaN   \n",
      "1  Argentina          NaN    NaN       NaN        1.0           55.0   \n",
      "2  Argentina      Córdoba    2.0       NaN        1.0           45.0   \n",
      "3  Argentina      Córdoba    2.0       NaN        1.0           48.0   \n",
      "4  Argentina      Córdoba    2.0       NaN        1.0           45.0   \n",
      "\n",
      "   surface_covered  price currency price_period property_type  \\\n",
      "0              NaN    NaN      NaN      Mensual          Lote   \n",
      "1             41.0    NaN      NaN      Mensual  Departamento   \n",
      "2             45.0    NaN      NaN      Mensual  Departamento   \n",
      "3             48.0    NaN      NaN      Mensual  Departamento   \n",
      "4             45.0    NaN      NaN      Mensual  Departamento   \n",
      "\n",
      "      operation_type  \n",
      "0              Venta  \n",
      "1              Venta  \n",
      "2  Alquiler temporal  \n",
      "3  Alquiler temporal  \n",
      "4  Alquiler temporal  \n"
     ]
    }
   ],
   "source": [
    "#Here we take a look at first five columns of the reduced data set.\n",
    "print(df.head())"
   ]
  },
  {
   "cell_type": "code",
   "execution_count": 8,
   "metadata": {},
   "outputs": [],
   "source": [
    "#df.apply(lambda x: x.fillna(x.mean()))"
   ]
  },
  {
   "cell_type": "code",
   "execution_count": 9,
   "metadata": {},
   "outputs": [],
   "source": [
    "#converting all the currencies to USD, based on Google exchange rates on June 12th 2020. Done for internal consistency \n",
    "#in estimation.\n",
    "df.loc[df.currency=='ARS','price']=df['price']*0.014\n",
    "df.loc[df.currency=='UYU','price']=df['price']*0.023\n",
    "df.loc[df.currency=='PEN','price']=df['price']*0.29"
   ]
  },
  {
   "cell_type": "code",
   "execution_count": 10,
   "metadata": {},
   "outputs": [],
   "source": [
    "#selecting examples per country, it would be prudent to only consider houses within cities, within the same country\n",
    "Argentina=df.loc[df['l1'] == 'Argentina']\n",
    "Uruguay=df.loc[df['l1'] == 'Uruguay']\n",
    "Estados_Unidos=df.loc[df['l1'] == 'Estados Unidos']\n",
    "Brasil=df.loc[df['l1'] == 'Brasil']"
   ]
  },
  {
   "cell_type": "code",
   "execution_count": 11,
   "metadata": {},
   "outputs": [
    {
     "name": "stdout",
     "output_type": "stream",
     "text": [
      "(976083, 12) (23146, 12) (727, 12) (44, 12)\n"
     ]
    }
   ],
   "source": [
    "#Argentina dispropoortinately has the largest share of the data then Uruguay, the US and Brasil in that order\n",
    "print(Argentina.shape,Uruguay.shape,Estados_Unidos.shape,Brasil.shape)"
   ]
  },
  {
   "cell_type": "code",
   "execution_count": 12,
   "metadata": {},
   "outputs": [],
   "source": [
    "#let's clean up argentina\n",
    "#Argentina.isnull().sum()"
   ]
  },
  {
   "cell_type": "code",
   "execution_count": 13,
   "metadata": {},
   "outputs": [],
   "source": [
    "#def summary(dataframe):\n",
    " #   for i in dataframe.columns:\n",
    "  #      if dataframe[i] != int:\n",
    "    \n",
    "    #return dataframe[i].mean()"
   ]
  },
  {
   "cell_type": "code",
   "execution_count": 14,
   "metadata": {},
   "outputs": [],
   "source": [
    "#time spent on the listing.\n",
    "#data['start']=pd.to_datetime(data['start_date'])\n",
    "#data['end']=pd.to_datetime(data['end_date'],errors='coerce')\n",
    "#data['d']=data['end']-data['start']"
   ]
  },
  {
   "cell_type": "code",
   "execution_count": 15,
   "metadata": {},
   "outputs": [],
   "source": [
    "#data.d.mean()"
   ]
  },
  {
   "cell_type": "code",
   "execution_count": 16,
   "metadata": {},
   "outputs": [],
   "source": [
    "#select per country:\n",
    "#data['Argentina']=data.loc[data['l1'] == 'Argentina']\n",
    "#data['Argentina']=data.loc[data['l1'] == 'Argentina']\n",
    "#data['l1'].to_string()"
   ]
  },
  {
   "cell_type": "code",
   "execution_count": 17,
   "metadata": {},
   "outputs": [],
   "source": [
    "#below we examine all the columns and clean them up ready for estimation\n",
    "#df['l1'].unique() # There are four countries and 1267 cities in the data set. We'll have to trim down the data set into only the\n",
    "#major cities in each country"
   ]
  },
  {
   "cell_type": "code",
   "execution_count": 18,
   "metadata": {},
   "outputs": [],
   "source": [
    "#df.isnull().sum() # This code tells us what are the number of NaN values in every column of the data set."
   ]
  },
  {
   "cell_type": "code",
   "execution_count": 19,
   "metadata": {},
   "outputs": [],
   "source": [
    "#df.currency.unique()"
   ]
  },
  {
   "cell_type": "code",
   "execution_count": 20,
   "metadata": {},
   "outputs": [],
   "source": [
    "# out of the variables left in our reduced data set, we only select the numerical ones for use in the estimation procedure\n",
    "Argentina_=Argentina[['rooms','bedrooms','bathrooms','surface_total','surface_covered','price']]\n",
    "Braz=Brasil[['rooms','bedrooms','bathrooms','surface_total','surface_covered','price']]\n",
    "Uru=Uruguay[['rooms','bedrooms','bathrooms','surface_total','surface_covered','price']]\n",
    "US_=Estados_Unidos[['rooms','bedrooms','bathrooms','surface_total','surface_covered','price']]"
   ]
  },
  {
   "cell_type": "code",
   "execution_count": 32,
   "metadata": {},
   "outputs": [],
   "source": [
    "#Brasil.mean()"
   ]
  },
  {
   "cell_type": "code",
   "execution_count": 21,
   "metadata": {},
   "outputs": [],
   "source": [
    "#Fill in the nans with the means of the columns\n",
    "#df.apply(lambda x: x.fillna(x.mean()))\n",
    "\n",
    "#Brazil.apply(lambda x: x.fillna(x.mean(axis=0)))\n",
    "#Uruguay.apply(lambda x: x.fillna(x.mean(axis=0)))\n",
    "#US=US_.apply(lambda x: x.fillna(x.mean(axis=0)))\n",
    "Argentina1=Argentina_.fillna(Argentina_.mean(axis=0))\n",
    "Brazil=Braz.fillna(Braz.mean(axis=0))\n",
    "Uruguay1=Uru.fillna(Uru.mean(axis=0))\n",
    "US=US_.fillna(US_.mean(axis=0))"
   ]
  },
  {
   "cell_type": "code",
   "execution_count": 22,
   "metadata": {},
   "outputs": [
    {
     "name": "stdout",
     "output_type": "stream",
     "text": [
      "        rooms  bedrooms  bathrooms  surface_total  surface_covered  \\\n",
      "77   1.000000  2.327581        1.0      38.000000        35.000000   \n",
      "152  3.288937  2.327581        1.0     150.000000       150.000000   \n",
      "329  3.288937  2.327581        3.0     396.971049       159.697073   \n",
      "330  3.288937  2.327581        5.0     396.971049       159.697073   \n",
      "333  6.000000  2.327581        3.0     207.000000       207.000000   \n",
      "\n",
      "             price  \n",
      "77      600.000000  \n",
      "152  240591.371476  \n",
      "329   30500.000000  \n",
      "330   42700.000000  \n",
      "333  450000.000000  \n"
     ]
    }
   ],
   "source": [
    "#print(Brazil)\n",
    "#print(US.head())\n",
    "print(Uruguay1.head())"
   ]
  },
  {
   "cell_type": "code",
   "execution_count": 23,
   "metadata": {},
   "outputs": [],
   "source": [
    "#Argentina.fillna(Argentina.mean())"
   ]
  },
  {
   "cell_type": "code",
   "execution_count": 27,
   "metadata": {},
   "outputs": [],
   "source": [
    "Brazil.to_csv(r'C:\\Users\\Rodgers\\Desktop\\Machine learning\\Brazil.csv', index = False)\n",
    "Uruguay1.to_csv(r'C:\\Users\\Rodgers\\Desktop\\Machine learning\\Uruguay.csv', index = False)\n",
    "US.to_csv(r'C:\\Users\\Rodgers\\Desktop\\Machine learning\\US.csv', index = False)\n",
    "Argentina1.to_csv(r'C:\\Users\\Rodgers\\Desktop\\Machine learning\\Argentina1.csv', index = False)"
   ]
  },
  {
   "cell_type": "code",
   "execution_count": 25,
   "metadata": {},
   "outputs": [],
   "source": [
    "#Argentina['l3'].nunique()"
   ]
  },
  {
   "cell_type": "code",
   "execution_count": 26,
   "metadata": {},
   "outputs": [],
   "source": [
    "#Argentina.tail(10)"
   ]
  },
  {
   "cell_type": "code",
   "execution_count": 72,
   "metadata": {},
   "outputs": [
    {
     "name": "stdout",
     "output_type": "stream",
     "text": [
      "                            OLS Regression Results                            \n",
      "==============================================================================\n",
      "Dep. Variable:                  price   R-squared:                       0.518\n",
      "Model:                            OLS   Adj. R-squared:                  0.454\n",
      "Method:                 Least Squares   F-statistic:                     8.163\n",
      "Date:                Mon, 15 Jun 2020   Prob (F-statistic):           2.62e-05\n",
      "Time:                        15:39:06   Log-Likelihood:                -610.88\n",
      "No. Observations:                  44   AIC:                             1234.\n",
      "Df Residuals:                      38   BIC:                             1244.\n",
      "Df Model:                           5                                         \n",
      "Covariance Type:            nonrobust                                         \n",
      "===================================================================================\n",
      "                      coef    std err          t      P>|t|      [0.025      0.975]\n",
      "-----------------------------------------------------------------------------------\n",
      "const             2.76e+04   1.76e+05      0.157      0.876   -3.29e+05    3.84e+05\n",
      "rooms           -8262.8546   3.03e+04     -0.273      0.786   -6.96e+04     5.3e+04\n",
      "bathrooms        1.087e+05   1.88e+04      5.766      0.000    7.05e+04    1.47e+05\n",
      "surface_total      14.6155     12.784      1.143      0.260     -11.264      40.495\n",
      "surface_covered   -28.2113     21.449     -1.315      0.196     -71.632      15.209\n",
      "bedrooms        -5.637e+04   2.63e+04     -2.143      0.039    -1.1e+05   -3123.263\n",
      "==============================================================================\n",
      "Omnibus:                       27.828   Durbin-Watson:                   1.721\n",
      "Prob(Omnibus):                  0.000   Jarque-Bera (JB):               53.759\n",
      "Skew:                           1.792   Prob(JB):                     2.12e-12\n",
      "Kurtosis:                       7.059   Cond. No.                     2.23e+04\n",
      "==============================================================================\n",
      "\n",
      "Warnings:\n",
      "[1] Standard Errors assume that the covariance matrix of the errors is correctly specified.\n",
      "[2] The condition number is large, 2.23e+04. This might indicate that there are\n",
      "strong multicollinearity or other numerical problems.\n"
     ]
    }
   ],
   "source": [
    "#OLS model for Brazil.\n",
    "y=Brazil['price']\n",
    "x=Brazil[['rooms', 'bathrooms','surface_total','surface_covered','bedrooms']]\n",
    "x = sm.add_constant(x)\n",
    "model=sm.OLS(y,x).fit()\n",
    "model_prediction=model.predict(x)\n",
    "model_details=model.summary()\n",
    "print(model_details)"
   ]
  },
  {
   "cell_type": "code",
   "execution_count": 62,
   "metadata": {},
   "outputs": [
    {
     "name": "stdout",
     "output_type": "stream",
     "text": [
      "[ 0.00000000e+00 -8.26285465e+03  1.08652026e+05  1.46154750e+01\n",
      " -2.82113021e+01 -5.63719833e+04]\n",
      "27601.6011490628\n"
     ]
    }
   ],
   "source": [
    "#Linear regression for SK learn\n",
    "reg = LinearRegression().fit(x, y) #pretty much the same coefficients\n",
    "reg.score(x, y)\n",
    "print(reg.coef_)\n",
    "print(reg.intercept_)"
   ]
  },
  {
   "cell_type": "code",
   "execution_count": 63,
   "metadata": {},
   "outputs": [],
   "source": [
    "#from sklearn.model_selection import train_test_split\n",
    "\n",
    "#x_train, x_test, y_train, y_test = train_test_split(x, y, train_size=0.8, test_size=0.2)\n",
    "#coef_, which contains the coefficients #coef._[0] is the intercept\n",
    "#intercept_, which contains the intercept\n",
    "#sklearn‘s linear_model.LinearRegression comes with a .score() \n",
    "#method that returns the coefficient of determination R² of the prediction."
   ]
  },
  {
   "cell_type": "code",
   "execution_count": 64,
   "metadata": {},
   "outputs": [],
   "source": [
    "#train test split sklearn\n",
    "X_train,X_test,y_train,y_test=train_test_split(x,y, test_size=0.5, random_state=25)"
   ]
  },
  {
   "cell_type": "code",
   "execution_count": 65,
   "metadata": {},
   "outputs": [
    {
     "name": "stdout",
     "output_type": "stream",
     "text": [
      "0.8789540107051546\n",
      "-12.900075906746597\n",
      "[ 0.00000000e+00  1.14700516e+05  2.14292461e+05  6.24887753e+01\n",
      " -2.41933783e+02 -1.15011782e+05]\n"
     ]
    }
   ],
   "source": [
    "lr = LinearRegression()\n",
    "lr.fit(X_train,y_train)\n",
    "y_predict=lr.predict(X_test) # tells us the values that we could get in case in case we pass in new x values\n",
    "lr_train_score=lr.score(X_train,y_train)\n",
    "lr_test_score=lr.score(X_test,y_test)\n",
    "print(lr_train_score)\n",
    "print(lr_test_score)\n",
    "print(lr.coef_)"
   ]
  },
  {
   "cell_type": "code",
   "execution_count": 66,
   "metadata": {},
   "outputs": [
    {
     "name": "stdout",
     "output_type": "stream",
     "text": [
      "[ 0.00000000e+00 -8.26285465e+03  1.08652026e+05  1.46154750e+01\n",
      " -2.82113021e+01 -5.63719833e+04]\n"
     ]
    }
   ],
   "source": [
    "lr.fit(x,y)\n",
    "print(lr.coef_)"
   ]
  },
  {
   "cell_type": "code",
   "execution_count": 67,
   "metadata": {},
   "outputs": [
    {
     "data": {
      "text/html": [
       "<div>\n",
       "<style scoped>\n",
       "    .dataframe tbody tr th:only-of-type {\n",
       "        vertical-align: middle;\n",
       "    }\n",
       "\n",
       "    .dataframe tbody tr th {\n",
       "        vertical-align: top;\n",
       "    }\n",
       "\n",
       "    .dataframe thead th {\n",
       "        text-align: right;\n",
       "    }\n",
       "</style>\n",
       "<table border=\"1\" class=\"dataframe\">\n",
       "  <thead>\n",
       "    <tr style=\"text-align: right;\">\n",
       "      <th></th>\n",
       "      <th>rooms</th>\n",
       "      <th>bedrooms</th>\n",
       "      <th>bathrooms</th>\n",
       "      <th>surface_total</th>\n",
       "      <th>surface_covered</th>\n",
       "      <th>price</th>\n",
       "    </tr>\n",
       "  </thead>\n",
       "  <tbody>\n",
       "    <tr>\n",
       "      <td>rooms</td>\n",
       "      <td>1.000000</td>\n",
       "      <td>0.073285</td>\n",
       "      <td>0.209153</td>\n",
       "      <td>0.188140</td>\n",
       "      <td>0.214474</td>\n",
       "      <td>0.125085</td>\n",
       "    </tr>\n",
       "    <tr>\n",
       "      <td>bedrooms</td>\n",
       "      <td>0.073285</td>\n",
       "      <td>1.000000</td>\n",
       "      <td>0.673790</td>\n",
       "      <td>-0.043758</td>\n",
       "      <td>0.081658</td>\n",
       "      <td>0.261442</td>\n",
       "    </tr>\n",
       "    <tr>\n",
       "      <td>bathrooms</td>\n",
       "      <td>0.209153</td>\n",
       "      <td>0.673790</td>\n",
       "      <td>1.000000</td>\n",
       "      <td>-0.105375</td>\n",
       "      <td>0.058507</td>\n",
       "      <td>0.656372</td>\n",
       "    </tr>\n",
       "    <tr>\n",
       "      <td>surface_total</td>\n",
       "      <td>0.188140</td>\n",
       "      <td>-0.043758</td>\n",
       "      <td>-0.105375</td>\n",
       "      <td>1.000000</td>\n",
       "      <td>0.518025</td>\n",
       "      <td>-0.025227</td>\n",
       "    </tr>\n",
       "    <tr>\n",
       "      <td>surface_covered</td>\n",
       "      <td>0.214474</td>\n",
       "      <td>0.081658</td>\n",
       "      <td>0.058507</td>\n",
       "      <td>0.518025</td>\n",
       "      <td>1.000000</td>\n",
       "      <td>-0.077026</td>\n",
       "    </tr>\n",
       "    <tr>\n",
       "      <td>price</td>\n",
       "      <td>0.125085</td>\n",
       "      <td>0.261442</td>\n",
       "      <td>0.656372</td>\n",
       "      <td>-0.025227</td>\n",
       "      <td>-0.077026</td>\n",
       "      <td>1.000000</td>\n",
       "    </tr>\n",
       "  </tbody>\n",
       "</table>\n",
       "</div>"
      ],
      "text/plain": [
       "                    rooms  bedrooms  bathrooms  surface_total  \\\n",
       "rooms            1.000000  0.073285   0.209153       0.188140   \n",
       "bedrooms         0.073285  1.000000   0.673790      -0.043758   \n",
       "bathrooms        0.209153  0.673790   1.000000      -0.105375   \n",
       "surface_total    0.188140 -0.043758  -0.105375       1.000000   \n",
       "surface_covered  0.214474  0.081658   0.058507       0.518025   \n",
       "price            0.125085  0.261442   0.656372      -0.025227   \n",
       "\n",
       "                 surface_covered     price  \n",
       "rooms                   0.214474  0.125085  \n",
       "bedrooms                0.081658  0.261442  \n",
       "bathrooms               0.058507  0.656372  \n",
       "surface_total           0.518025 -0.025227  \n",
       "surface_covered         1.000000 -0.077026  \n",
       "price                  -0.077026  1.000000  "
      ]
     },
     "execution_count": 67,
     "metadata": {},
     "output_type": "execute_result"
    }
   ],
   "source": [
    "Brazil.corr()"
   ]
  },
  {
   "cell_type": "code",
   "execution_count": 73,
   "metadata": {},
   "outputs": [
    {
     "name": "stdout",
     "output_type": "stream",
     "text": [
      "                            OLS Regression Results                            \n",
      "==============================================================================\n",
      "Dep. Variable:                  price   R-squared:                       0.333\n",
      "Model:                            OLS   Adj. R-squared:                  0.329\n",
      "Method:                 Least Squares   F-statistic:                     72.15\n",
      "Date:                Mon, 15 Jun 2020   Prob (F-statistic):           3.08e-61\n",
      "Time:                        15:41:48   Log-Likelihood:                -10628.\n",
      "No. Observations:                 727   AIC:                         2.127e+04\n",
      "Df Residuals:                     721   BIC:                         2.130e+04\n",
      "Df Model:                           5                                         \n",
      "Covariance Type:            nonrobust                                         \n",
      "===================================================================================\n",
      "                      coef    std err          t      P>|t|      [0.025      0.975]\n",
      "-----------------------------------------------------------------------------------\n",
      "const           -1.927e+05   8.96e+04     -2.150      0.032   -3.69e+05   -1.67e+04\n",
      "rooms           -9.318e+04   1.67e+04     -5.585      0.000   -1.26e+05   -6.04e+04\n",
      "bathrooms        2.018e+05   2.51e+04      8.036      0.000    1.52e+05    2.51e+05\n",
      "surface_total     562.0898    239.223      2.350      0.019      92.432    1031.747\n",
      "surface_covered  5412.9530    485.420     11.151      0.000    4459.947    6365.959\n",
      "bedrooms        -8.413e+04    4.2e+04     -2.003      0.046   -1.67e+05   -1682.723\n",
      "==============================================================================\n",
      "Omnibus:                      790.544   Durbin-Watson:                   1.557\n",
      "Prob(Omnibus):                  0.000   Jarque-Bera (JB):            72656.012\n",
      "Skew:                           4.981   Prob(JB):                         0.00\n",
      "Kurtosis:                      50.951   Cond. No.                         998.\n",
      "==============================================================================\n",
      "\n",
      "Warnings:\n",
      "[1] Standard Errors assume that the covariance matrix of the errors is correctly specified.\n"
     ]
    }
   ],
   "source": [
    "#OLS model for US\n",
    "y1=US['price']\n",
    "x1=US[['rooms', 'bathrooms','surface_total','surface_covered','bedrooms']]\n",
    "x1 = sm.add_constant(x1)\n",
    "model1=sm.OLS(y1,x1).fit()\n",
    "model_prediction1=model1.predict(x1)\n",
    "model_details1=model1.summary()\n",
    "print(model_details1)"
   ]
  },
  {
   "cell_type": "code",
   "execution_count": null,
   "metadata": {},
   "outputs": [],
   "source": []
  }
 ],
 "metadata": {
  "kernelspec": {
   "display_name": "Python 3",
   "language": "python",
   "name": "python3"
  },
  "language_info": {
   "codemirror_mode": {
    "name": "ipython",
    "version": 3
   },
   "file_extension": ".py",
   "mimetype": "text/x-python",
   "name": "python",
   "nbconvert_exporter": "python",
   "pygments_lexer": "ipython3",
   "version": "3.7.4"
  }
 },
 "nbformat": 4,
 "nbformat_minor": 2
}
